{
  "cells": [
    {
      "cell_type": "markdown",
      "metadata": {
        "colab_type": "text",
        "id": "view-in-github"
      },
      "source": [
        "<a href=\"https://colab.research.google.com/github/sushmithashenoy07/AgriMitra/blob/main/crop_recommendation.ipynb\" target=\"_parent\"><img src=\"https://colab.research.google.com/assets/colab-badge.svg\" alt=\"Open In Colab\"/></a>"
      ]
    },
    {
      "cell_type": "code",
      "execution_count": 45,
      "metadata": {
        "id": "Dnu25AHCros1"
      },
      "outputs": [],
      "source": [
        "import pandas as pd\n",
        "from sklearn.model_selection import train_test_split"
      ]
    },
    {
      "cell_type": "code",
      "execution_count": 46,
      "metadata": {
        "id": "LpoB3ARmsl06"
      },
      "outputs": [],
      "source": [
        "crop_data_file = '../datasets/Crop_recommendation.csv'\n",
        "market_data_file = '../datasets/cropmarketprice.csv'"
      ]
    },
    {
      "cell_type": "code",
      "execution_count": 47,
      "metadata": {
        "id": "ughH_UPqspa4"
      },
      "outputs": [],
      "source": [
        "crop_data = pd.read_csv(crop_data_file)\n",
        "market_data = pd.read_csv(market_data_file)"
      ]
    },
    {
      "cell_type": "code",
      "execution_count": 48,
      "metadata": {
        "colab": {
          "base_uri": "https://localhost:8080/"
        },
        "id": "L99YQeDcsuBT",
        "outputId": "a46084db-cc2e-4ca3-f0da-3e97858f035e"
      },
      "outputs": [
        {
          "name": "stdout",
          "output_type": "stream",
          "text": [
            "Crop Data Columns: Index(['N', 'P', 'K', 'temperature', 'humidity', 'ph', 'rainfall', 'label'], dtype='object')\n",
            "Market Data Columns: Index(['State', 'District', 'Market', 'Commodity', 'Variety', 'Grade',\n",
            "       'Arrival_Date', 'Min_x0020_Price', 'Max_x0020_Price',\n",
            "       'Modal_x0020_Price'],\n",
            "      dtype='object')\n"
          ]
        }
      ],
      "source": [
        "print(\"Crop Data Columns:\", crop_data.columns)\n",
        "print(\"Market Data Columns:\", market_data.columns)\n"
      ]
    },
    {
      "cell_type": "code",
      "execution_count": 49,
      "metadata": {
        "id": "3ncBgZqQtVFB"
      },
      "outputs": [],
      "source": [
        "# Merge the two datasets on 'label' (from crop_data) and 'Commodity' (from market_data)\n",
        "merged_data = pd.merge(crop_data, market_data, left_on='label', right_on='Commodity')\n"
      ]
    },
    {
      "cell_type": "code",
      "execution_count": 50,
      "metadata": {
        "id": "oByzkxbptqW0"
      },
      "outputs": [],
      "source": [
        "# Features from crop data: N, P, K, temperature, humidity, ph, rainfall\n",
        "X = merged_data[['N', 'P', 'K', 'temperature', 'humidity', 'ph', 'rainfall']]\n",
        "\n",
        "# Target variable: Modal price from market data\n",
        "y = merged_data['Modal_x0020_Price']"
      ]
    },
    {
      "cell_type": "code",
      "execution_count": 51,
      "metadata": {
        "colab": {
          "base_uri": "https://localhost:8080/"
        },
        "id": "g9MDaW7uuXZK",
        "outputId": "c2ffb924-8d53-4642-b2bf-5fa0d4dea6db"
      },
      "outputs": [
        {
          "name": "stdout",
          "output_type": "stream",
          "text": [
            "Crop Data Preview:\n"
          ]
        },
        {
          "data": {
            "text/html": [
              "<div>\n",
              "<style scoped>\n",
              "    .dataframe tbody tr th:only-of-type {\n",
              "        vertical-align: middle;\n",
              "    }\n",
              "\n",
              "    .dataframe tbody tr th {\n",
              "        vertical-align: top;\n",
              "    }\n",
              "\n",
              "    .dataframe thead th {\n",
              "        text-align: right;\n",
              "    }\n",
              "</style>\n",
              "<table border=\"1\" class=\"dataframe\">\n",
              "  <thead>\n",
              "    <tr style=\"text-align: right;\">\n",
              "      <th></th>\n",
              "      <th>N</th>\n",
              "      <th>P</th>\n",
              "      <th>K</th>\n",
              "      <th>temperature</th>\n",
              "      <th>humidity</th>\n",
              "      <th>ph</th>\n",
              "      <th>rainfall</th>\n",
              "      <th>label</th>\n",
              "    </tr>\n",
              "  </thead>\n",
              "  <tbody>\n",
              "    <tr>\n",
              "      <th>0</th>\n",
              "      <td>90</td>\n",
              "      <td>42</td>\n",
              "      <td>43</td>\n",
              "      <td>20.879744</td>\n",
              "      <td>82.002744</td>\n",
              "      <td>6.502985</td>\n",
              "      <td>202.935536</td>\n",
              "      <td>rice</td>\n",
              "    </tr>\n",
              "    <tr>\n",
              "      <th>1</th>\n",
              "      <td>85</td>\n",
              "      <td>58</td>\n",
              "      <td>41</td>\n",
              "      <td>21.770462</td>\n",
              "      <td>80.319644</td>\n",
              "      <td>7.038096</td>\n",
              "      <td>226.655537</td>\n",
              "      <td>rice</td>\n",
              "    </tr>\n",
              "    <tr>\n",
              "      <th>2</th>\n",
              "      <td>60</td>\n",
              "      <td>55</td>\n",
              "      <td>44</td>\n",
              "      <td>23.004459</td>\n",
              "      <td>82.320763</td>\n",
              "      <td>7.840207</td>\n",
              "      <td>263.964248</td>\n",
              "      <td>rice</td>\n",
              "    </tr>\n",
              "    <tr>\n",
              "      <th>3</th>\n",
              "      <td>74</td>\n",
              "      <td>35</td>\n",
              "      <td>40</td>\n",
              "      <td>26.491096</td>\n",
              "      <td>80.158363</td>\n",
              "      <td>6.980401</td>\n",
              "      <td>242.864034</td>\n",
              "      <td>rice</td>\n",
              "    </tr>\n",
              "    <tr>\n",
              "      <th>4</th>\n",
              "      <td>78</td>\n",
              "      <td>42</td>\n",
              "      <td>42</td>\n",
              "      <td>20.130175</td>\n",
              "      <td>81.604873</td>\n",
              "      <td>7.628473</td>\n",
              "      <td>262.717340</td>\n",
              "      <td>rice</td>\n",
              "    </tr>\n",
              "  </tbody>\n",
              "</table>\n",
              "</div>"
            ],
            "text/plain": [
              "    N   P   K  temperature   humidity        ph    rainfall label\n",
              "0  90  42  43    20.879744  82.002744  6.502985  202.935536  rice\n",
              "1  85  58  41    21.770462  80.319644  7.038096  226.655537  rice\n",
              "2  60  55  44    23.004459  82.320763  7.840207  263.964248  rice\n",
              "3  74  35  40    26.491096  80.158363  6.980401  242.864034  rice\n",
              "4  78  42  42    20.130175  81.604873  7.628473  262.717340  rice"
            ]
          },
          "execution_count": 51,
          "metadata": {},
          "output_type": "execute_result"
        }
      ],
      "source": [
        "print(\"Crop Data Preview:\")\n",
        "crop_data.head()"
      ]
    },
    {
      "cell_type": "code",
      "execution_count": 52,
      "metadata": {
        "colab": {
          "base_uri": "https://localhost:8080/"
        },
        "id": "Z9KUx21dubJM",
        "outputId": "18486339-904a-4757-af99-6a83f075e7de"
      },
      "outputs": [
        {
          "name": "stdout",
          "output_type": "stream",
          "text": [
            "Market Data Preview:\n"
          ]
        },
        {
          "data": {
            "text/html": [
              "<div>\n",
              "<style scoped>\n",
              "    .dataframe tbody tr th:only-of-type {\n",
              "        vertical-align: middle;\n",
              "    }\n",
              "\n",
              "    .dataframe tbody tr th {\n",
              "        vertical-align: top;\n",
              "    }\n",
              "\n",
              "    .dataframe thead th {\n",
              "        text-align: right;\n",
              "    }\n",
              "</style>\n",
              "<table border=\"1\" class=\"dataframe\">\n",
              "  <thead>\n",
              "    <tr style=\"text-align: right;\">\n",
              "      <th></th>\n",
              "      <th>State</th>\n",
              "      <th>District</th>\n",
              "      <th>Market</th>\n",
              "      <th>Commodity</th>\n",
              "      <th>Variety</th>\n",
              "      <th>Grade</th>\n",
              "      <th>Arrival_Date</th>\n",
              "      <th>Min_x0020_Price</th>\n",
              "      <th>Max_x0020_Price</th>\n",
              "      <th>Modal_x0020_Price</th>\n",
              "    </tr>\n",
              "  </thead>\n",
              "  <tbody>\n",
              "    <tr>\n",
              "      <th>0</th>\n",
              "      <td>Andhra Pradesh</td>\n",
              "      <td>East Godavari</td>\n",
              "      <td>Karapa</td>\n",
              "      <td>Paddy(Dhan)(Common)</td>\n",
              "      <td>1001</td>\n",
              "      <td>FAQ</td>\n",
              "      <td>19/09/2024</td>\n",
              "      <td>2183.0</td>\n",
              "      <td>2200.0</td>\n",
              "      <td>2183.0</td>\n",
              "    </tr>\n",
              "    <tr>\n",
              "      <th>1</th>\n",
              "      <td>Andhra Pradesh</td>\n",
              "      <td>East Godavari</td>\n",
              "      <td>Ravulapelem</td>\n",
              "      <td>Banana</td>\n",
              "      <td>Chakkarakeli(Red)</td>\n",
              "      <td>Large</td>\n",
              "      <td>19/09/2024</td>\n",
              "      <td>2400.0</td>\n",
              "      <td>3200.0</td>\n",
              "      <td>2800.0</td>\n",
              "    </tr>\n",
              "    <tr>\n",
              "      <th>2</th>\n",
              "      <td>Andhra Pradesh</td>\n",
              "      <td>Guntur</td>\n",
              "      <td>Tenali</td>\n",
              "      <td>Lemon</td>\n",
              "      <td>Lemon</td>\n",
              "      <td>FAQ</td>\n",
              "      <td>19/09/2024</td>\n",
              "      <td>4200.0</td>\n",
              "      <td>7100.0</td>\n",
              "      <td>5800.0</td>\n",
              "    </tr>\n",
              "    <tr>\n",
              "      <th>3</th>\n",
              "      <td>Andhra Pradesh</td>\n",
              "      <td>Kurnool</td>\n",
              "      <td>Nandyal</td>\n",
              "      <td>Paddy(Dhan)(Common)</td>\n",
              "      <td>Sona Mahsuri</td>\n",
              "      <td>FAQ</td>\n",
              "      <td>19/09/2024</td>\n",
              "      <td>2290.0</td>\n",
              "      <td>2290.0</td>\n",
              "      <td>2290.0</td>\n",
              "    </tr>\n",
              "    <tr>\n",
              "      <th>4</th>\n",
              "      <td>Assam</td>\n",
              "      <td>Barpeta</td>\n",
              "      <td>Barpeta Road</td>\n",
              "      <td>French Beans (Frasbean)</td>\n",
              "      <td>French Beans (Frasbean)</td>\n",
              "      <td>Local</td>\n",
              "      <td>19/09/2024</td>\n",
              "      <td>3800.0</td>\n",
              "      <td>4000.0</td>\n",
              "      <td>4000.0</td>\n",
              "    </tr>\n",
              "  </tbody>\n",
              "</table>\n",
              "</div>"
            ],
            "text/plain": [
              "            State       District        Market                Commodity  \\\n",
              "0  Andhra Pradesh  East Godavari        Karapa      Paddy(Dhan)(Common)   \n",
              "1  Andhra Pradesh  East Godavari   Ravulapelem                   Banana   \n",
              "2  Andhra Pradesh         Guntur        Tenali                    Lemon   \n",
              "3  Andhra Pradesh        Kurnool       Nandyal      Paddy(Dhan)(Common)   \n",
              "4           Assam        Barpeta  Barpeta Road  French Beans (Frasbean)   \n",
              "\n",
              "                   Variety  Grade Arrival_Date  Min_x0020_Price  \\\n",
              "0                     1001    FAQ   19/09/2024           2183.0   \n",
              "1        Chakkarakeli(Red)  Large   19/09/2024           2400.0   \n",
              "2                    Lemon    FAQ   19/09/2024           4200.0   \n",
              "3             Sona Mahsuri    FAQ   19/09/2024           2290.0   \n",
              "4  French Beans (Frasbean)  Local   19/09/2024           3800.0   \n",
              "\n",
              "   Max_x0020_Price  Modal_x0020_Price  \n",
              "0           2200.0             2183.0  \n",
              "1           3200.0             2800.0  \n",
              "2           7100.0             5800.0  \n",
              "3           2290.0             2290.0  \n",
              "4           4000.0             4000.0  "
            ]
          },
          "execution_count": 52,
          "metadata": {},
          "output_type": "execute_result"
        }
      ],
      "source": [
        "print(\"Market Data Preview:\")\n",
        "market_data.head()"
      ]
    },
    {
      "cell_type": "code",
      "execution_count": 53,
      "metadata": {
        "id": "pirE5oLnu2I3"
      },
      "outputs": [],
      "source": [
        "crop_data['label'] = crop_data['label'].str.strip()\n",
        "market_data['Commodity'] = market_data['Commodity'].str.strip()"
      ]
    },
    {
      "cell_type": "code",
      "execution_count": 54,
      "metadata": {
        "id": "e0Kv50y4u6QH"
      },
      "outputs": [],
      "source": [
        "# Merge the two datasets again\n",
        "merged_data = pd.merge(crop_data, market_data, left_on='label', right_on='Commodity')"
      ]
    },
    {
      "cell_type": "code",
      "execution_count": 55,
      "metadata": {},
      "outputs": [
        {
          "data": {
            "text/html": [
              "<div>\n",
              "<style scoped>\n",
              "    .dataframe tbody tr th:only-of-type {\n",
              "        vertical-align: middle;\n",
              "    }\n",
              "\n",
              "    .dataframe tbody tr th {\n",
              "        vertical-align: top;\n",
              "    }\n",
              "\n",
              "    .dataframe thead th {\n",
              "        text-align: right;\n",
              "    }\n",
              "</style>\n",
              "<table border=\"1\" class=\"dataframe\">\n",
              "  <thead>\n",
              "    <tr style=\"text-align: right;\">\n",
              "      <th></th>\n",
              "      <th>N</th>\n",
              "      <th>P</th>\n",
              "      <th>K</th>\n",
              "      <th>temperature</th>\n",
              "      <th>humidity</th>\n",
              "      <th>ph</th>\n",
              "      <th>rainfall</th>\n",
              "      <th>label</th>\n",
              "      <th>State</th>\n",
              "      <th>District</th>\n",
              "      <th>Market</th>\n",
              "      <th>Commodity</th>\n",
              "      <th>Variety</th>\n",
              "      <th>Grade</th>\n",
              "      <th>Arrival_Date</th>\n",
              "      <th>Min_x0020_Price</th>\n",
              "      <th>Max_x0020_Price</th>\n",
              "      <th>Modal_x0020_Price</th>\n",
              "    </tr>\n",
              "  </thead>\n",
              "  <tbody>\n",
              "  </tbody>\n",
              "</table>\n",
              "</div>"
            ],
            "text/plain": [
              "Empty DataFrame\n",
              "Columns: [N, P, K, temperature, humidity, ph, rainfall, label, State, District, Market, Commodity, Variety, Grade, Arrival_Date, Min_x0020_Price, Max_x0020_Price, Modal_x0020_Price]\n",
              "Index: []"
            ]
          },
          "execution_count": 55,
          "metadata": {},
          "output_type": "execute_result"
        }
      ],
      "source": [
        "merged_data"
      ]
    },
    {
      "cell_type": "code",
      "execution_count": 56,
      "metadata": {
        "colab": {
          "base_uri": "https://localhost:8080/"
        },
        "id": "hzlYXh-au9Sx",
        "outputId": "e2ba7fca-d5f3-4652-d66c-bff6160e0163"
      },
      "outputs": [
        {
          "name": "stdout",
          "output_type": "stream",
          "text": [
            "Merged Data Shape: (0, 18)\n",
            "Merged Data Preview:\n",
            "Empty DataFrame\n",
            "Columns: [N, P, K, temperature, humidity, ph, rainfall, label, State, District, Market, Commodity, Variety, Grade, Arrival_Date, Min_x0020_Price, Max_x0020_Price, Modal_x0020_Price]\n",
            "Index: []\n"
          ]
        }
      ],
      "source": [
        "# Check if the merged data has rows\n",
        "print(f\"Merged Data Shape: {merged_data.shape}\")\n",
        "print(\"Merged Data Preview:\")\n",
        "print(merged_data.head())"
      ]
    },
    {
      "cell_type": "code",
      "execution_count": 57,
      "metadata": {
        "colab": {
          "base_uri": "https://localhost:8080/"
        },
        "id": "sdWC-ZmFu_YZ",
        "outputId": "d7c63bd9-f12c-4f36-ade9-a5394eb85eb0"
      },
      "outputs": [
        {
          "name": "stdout",
          "output_type": "stream",
          "text": [
            "Unique crop names in crop data (label column):\n",
            "['rice' 'maize' 'chickpea' 'kidneybeans' 'pigeonpeas' 'mothbeans'\n",
            " 'mungbean' 'blackgram' 'lentil' 'pomegranate' 'banana' 'mango' 'grapes'\n",
            " 'watermelon' 'muskmelon' 'apple' 'orange' 'papaya' 'coconut' 'cotton'\n",
            " 'jute' 'coffee']\n",
            "\n",
            "Unique commodities in market data (Commodity column):\n",
            "['Paddy(Dhan)(Common)' 'Banana' 'Lemon' 'French Beans (Frasbean)'\n",
            " 'Bhindi(Ladies Finger)' 'Cabbage' 'Pumpkin' 'Capsicum' 'Onion' 'Potato'\n",
            " 'Bottle gourd' 'Tomato' 'Soyabean' 'Coriander(Leaves)'\n",
            " 'Green Gram (Moong)(Whole)' 'Cucumbar(Kheera)' 'Ginger(Green)'\n",
            " 'Green Chilli' 'Papaya' 'Pomegranate' 'Ridgeguard(Tori)'\n",
            " 'Bajra(Pearl Millet/Cumbu)' 'Castor Seed' 'Isabgul (Psyllium)' 'Soanf'\n",
            " 'Suva (Dill Seed)' 'Maize' 'Cotton' 'Wheat' 'Arhar (Tur/Red Gram)(Whole)'\n",
            " 'Bitter gourd' 'Brinjal' 'Corriander seed' 'Groundnut'\n",
            " 'Sesamum(Sesame,Gingelly,Til)' 'Mustard' 'Black Gram (Urd Beans)(Whole)'\n",
            " 'Millets' 'Methi Seeds' 'Bengal Gram(Gram)(Whole)' 'Cummin Seed(Jeera)'\n",
            " 'Kulthi(Horse Gram)' 'Pegeon Pea (Arhar Fali)' 'Tinda'\n",
            " 'Guar Seed(Cluster Beans Seed)' 'Carrot' 'Beans' 'Amaranthus' 'Spinach'\n",
            " 'Apple' 'Cauliflower' 'Peas Wet' 'Mousambi(Sweet Lime)' 'Colacasia'\n",
            " 'Raddish' 'Orange' 'Pineapple' 'Guava' 'Water Melon' 'Ginger(Dry)'\n",
            " 'Mashrooms' 'Sponge gourd' 'Pear(Marasebu)' 'Garlic'\n",
            " 'Indian Beans (Seam)' 'Chilly Capsicum' 'Rice' 'Drumstick' 'Amphophalus'\n",
            " 'Cowpea(Veg)' 'Ashgourd' 'Banana - Green' 'Little gourd (Kundru)'\n",
            " 'Mint(Pudina)' 'Mango (Raw-Ripe)' 'Snakeguard' 'Beetroot' 'Coconut'\n",
            " 'Long Melon(Kakri)' 'Cluster beans' 'Tapioca' 'Mango' 'Sweet Potato'\n",
            " 'Coconut Seed' 'Linseed' 'Kutki' 'gulli' 'Guar' 'Chikoos(Sapota)'\n",
            " 'Rajgir' 'Tender Coconut' 'Methi(Leaves)' 'Onion Green' 'Betal Leaves'\n",
            " 'Tamarind Fruit' 'Pointed gourd (Parval)' 'Round gourd'\n",
            " 'Karbuja(Musk Melon)' 'Barley (Jau)' 'Lime' 'Chow Chow' 'Green Avare (W)'\n",
            " 'Marigold(Calcutta)' 'Knool Khol' 'Thondekai' 'Turnip'\n",
            " 'Elephant Yam (Suran)' 'Fig(Anjura/Anjeer)' 'Grapes' 'Amla(Nelli Kai)'\n",
            " 'Custard Apple (Sharifa)' 'Tube Flower' 'Yam (Ratalu)'\n",
            " 'Jamun(Narale Hannu)' 'Rose(Local)' 'Tube Rose(Loose)' 'Green Peas'\n",
            " 'Kakada' 'Jack Fruit' 'Jasmine' 'Masur Dal' 'Arhar Dal(Tur Dal)'\n",
            " 'Black Gram Dal (Urd Dal)' 'Gur(Jaggery)' 'Bengal Gram Dal (Chana Dal)'\n",
            " 'White Peas' 'Peas(Dry)' 'Lentil (Masur)(Whole)' 'Sugar' 'Wood'\n",
            " 'Red Gram' 'Arecanut(Betelnut/Supari)' 'Gram Raw(Chholia)'\n",
            " 'Jowar(Sorghum)' 'Seemebadnekai' 'Cowpea (Lobia/Karamani)'\n",
            " 'Ragi (Finger Millet)' 'Field Pea' 'Black pepper' 'Sweet Pumpkin'\n",
            " 'Seetapal' 'Squash(Chappal Kadoo)' 'Cashewnuts' 'Chili Red' 'Bull'\n",
            " 'Leafy Vegetable' 'Mustard Oil' 'Papaya (Raw)' 'Fish' 'Turmeric'\n",
            " 'Groundnut (Split)' 'Kartali (Kantola)' 'Ground Nut Seed'\n",
            " 'Persimon(Japani Fal)' 'Walnut' 'Sunflower' 'Coconut Oil'\n",
            " 'Paddy(Dhan)(Basmati)' 'Lak(Teora)' 'Peas cod' 'Copra' 'Duster Beans'\n",
            " 'Kabuli Chana(Chickpeas-White)' 'Kodo Millet(Varagu)' 'Plum' 'Taramira'\n",
            " 'Ghee' 'Green Gram Dal (Moong Dal)' 'Firewood' 'Season Leaves'\n",
            " 'Lotus Sticks' 'Bunch Beans' 'Alsandikai' 'Jute']\n"
          ]
        }
      ],
      "source": [
        "# Print unique crop names from both datasets\n",
        "print(\"Unique crop names in crop data (label column):\")\n",
        "print(crop_data['label'].unique())\n",
        "\n",
        "print(\"\\nUnique commodities in market data (Commodity column):\")\n",
        "print(market_data['Commodity'].unique())\n"
      ]
    },
    {
      "cell_type": "code",
      "execution_count": 58,
      "metadata": {
        "id": "ymUEgWt3vKZi"
      },
      "outputs": [],
      "source": [
        "crop_to_commodity_mapping = {\n",
        "    'rice': 'Paddy(Dhan)(Common)',\n",
        "    'maize': 'Maize',\n",
        "    'chickpea': 'Kabuli Chana(Chickpeas-White)',\n",
        "    'kidneybeans': 'Rajma',\n",
        "    'pigeonpeas': 'Arhar (Tur/Red Gram)(Whole)',\n",
        "    'mothbeans': 'Moth Beans',\n",
        "    'mungbean': 'Green Gram (Moong)(Whole)',\n",
        "    'blackgram': 'Black Gram (Urd Beans)(Whole)',\n",
        "    'lentil': 'Lentil (Masur)(Whole)',\n",
        "    'pomegranate': 'Pomegranate',\n",
        "    'banana': 'Banana',\n",
        "    'mango': 'Mango',\n",
        "    'grapes': 'Grapes',\n",
        "    'watermelon': 'Water Melon',\n",
        "    'muskmelon': 'Karbuja(Musk Melon)',\n",
        "    'apple': 'Apple',\n",
        "    'orange': 'Orange',\n",
        "    'papaya': 'Papaya',\n",
        "    'coconut': 'Coconut',\n",
        "    'cotton': 'Cotton',\n",
        "    'jute': 'Jute',\n",
        "    'coffee': 'Coffee',\n",
        "    'pigeonpeas': 'Arhar (Tur/Red Gram)(Whole)',\n",
        "    'mustard': 'Mustard',\n",
        "    'soybean': 'Soyabean',\n",
        "    'groundnut': 'Groundnut',\n",
        "    'wheat': 'Wheat',\n",
        "    'millets': 'Millets',\n",
        "    'sugarcane': 'Sugarcane',\n",
        "    'potato': 'Potato',\n",
        "    'onion': 'Onion',\n",
        "    'tomato': 'Tomato',\n",
        "    'brinjal': 'Brinjal',\n",
        "    'cabbage': 'Cabbage',\n",
        "    'cauliflower': 'Cauliflower',\n",
        "    'bhindi': 'Bhindi(Ladies Finger)',\n",
        "    'pumpkin': 'Pumpkin',\n",
        "    'bottle_gourd': 'Bottle gourd',\n",
        "    'ridge_gourd': 'Ridgeguard(Tori)',\n",
        "    'bitter_gourd': 'Bitter gourd',\n",
        "    'chillies': 'Green Chilli',\n",
        "    'garlic': 'Garlic',\n",
        "    'ginger': 'Ginger(Green)',\n",
        "    'turmeric': 'Turmeric',\n",
        "    'spinach': 'Spinach',\n",
        "    'coriander': 'Coriander(Leaves)',\n",
        "    'mint': 'Mint(Pudina)',\n",
        "    'beetroot': 'Beetroot',\n",
        "    'carrot': 'Carrot',\n",
        "    'peas': 'Green Peas',\n",
        "    'guava': 'Guava',\n",
        "    'pineapple': 'Pineapple',\n",
        "    'lime': 'Lime',\n",
        "    'mousambi': 'Mousambi(Sweet Lime)',\n",
        "    'jackfruit': 'Jack Fruit',\n",
        "    'cashew': 'Cashewnuts',\n",
        "    'sapota': 'Chikoos(Sapota)',\n",
        "    'fig': 'Fig(Anjura/Anjeer)',\n",
        "    'amla': 'Amla(Nelli Kai)',\n",
        "    'jamun': 'Jamun(Narale Hannu)',\n",
        "    'custard_apple': 'Custard Apple (Sharifa)',\n",
        "}"
      ]
    },
    {
      "cell_type": "code",
      "execution_count": 59,
      "metadata": {
        "id": "cq85ANGzwGoD"
      },
      "outputs": [],
      "source": [
        "crop_data['label_mapped'] = crop_data['label'].map(crop_to_commodity_mapping)"
      ]
    },
    {
      "cell_type": "code",
      "execution_count": 60,
      "metadata": {
        "colab": {
          "base_uri": "https://localhost:8080/"
        },
        "id": "NWSypv3NwJLy",
        "outputId": "9cd606d2-00f7-47b3-dd73-846f5838d874"
      },
      "outputs": [
        {
          "name": "stdout",
          "output_type": "stream",
          "text": [
            "Unmapped crops: []\n"
          ]
        }
      ],
      "source": [
        "# Check if there are any unmapped values\n",
        "unmapped = crop_data[crop_data['label_mapped'].isna()]\n",
        "print(f\"Unmapped crops: {unmapped['label'].unique()}\")"
      ]
    },
    {
      "cell_type": "code",
      "execution_count": 61,
      "metadata": {
        "id": "2dWrBKCjwLy2"
      },
      "outputs": [],
      "source": [
        "crop_data = crop_data.dropna(subset=['label_mapped'])"
      ]
    },
    {
      "cell_type": "code",
      "execution_count": 62,
      "metadata": {
        "id": "gmekqrJ2wQpI"
      },
      "outputs": [],
      "source": [
        "# Merge crop data with market data on the mapped labels\n",
        "merged_data = pd.merge(crop_data, market_data, left_on='label_mapped', right_on='Commodity')"
      ]
    },
    {
      "cell_type": "code",
      "execution_count": 63,
      "metadata": {
        "colab": {
          "base_uri": "https://localhost:8080/"
        },
        "id": "6SLVK0KzwUsZ",
        "outputId": "2b133b3a-6255-4522-b278-53d819428206"
      },
      "outputs": [
        {
          "name": "stdout",
          "output_type": "stream",
          "text": [
            "Merged Data Shape: (130700, 19)\n",
            "Merged Data Preview:\n"
          ]
        },
        {
          "data": {
            "text/html": [
              "<div>\n",
              "<style scoped>\n",
              "    .dataframe tbody tr th:only-of-type {\n",
              "        vertical-align: middle;\n",
              "    }\n",
              "\n",
              "    .dataframe tbody tr th {\n",
              "        vertical-align: top;\n",
              "    }\n",
              "\n",
              "    .dataframe thead th {\n",
              "        text-align: right;\n",
              "    }\n",
              "</style>\n",
              "<table border=\"1\" class=\"dataframe\">\n",
              "  <thead>\n",
              "    <tr style=\"text-align: right;\">\n",
              "      <th></th>\n",
              "      <th>N</th>\n",
              "      <th>P</th>\n",
              "      <th>K</th>\n",
              "      <th>temperature</th>\n",
              "      <th>humidity</th>\n",
              "      <th>ph</th>\n",
              "      <th>rainfall</th>\n",
              "      <th>label</th>\n",
              "      <th>label_mapped</th>\n",
              "      <th>State</th>\n",
              "      <th>District</th>\n",
              "      <th>Market</th>\n",
              "      <th>Commodity</th>\n",
              "      <th>Variety</th>\n",
              "      <th>Grade</th>\n",
              "      <th>Arrival_Date</th>\n",
              "      <th>Min_x0020_Price</th>\n",
              "      <th>Max_x0020_Price</th>\n",
              "      <th>Modal_x0020_Price</th>\n",
              "    </tr>\n",
              "  </thead>\n",
              "  <tbody>\n",
              "    <tr>\n",
              "      <th>0</th>\n",
              "      <td>90</td>\n",
              "      <td>42</td>\n",
              "      <td>43</td>\n",
              "      <td>20.879744</td>\n",
              "      <td>82.002744</td>\n",
              "      <td>6.502985</td>\n",
              "      <td>202.935536</td>\n",
              "      <td>rice</td>\n",
              "      <td>Paddy(Dhan)(Common)</td>\n",
              "      <td>Andhra Pradesh</td>\n",
              "      <td>East Godavari</td>\n",
              "      <td>Karapa</td>\n",
              "      <td>Paddy(Dhan)(Common)</td>\n",
              "      <td>1001</td>\n",
              "      <td>FAQ</td>\n",
              "      <td>19/09/2024</td>\n",
              "      <td>2183.0</td>\n",
              "      <td>2200.0</td>\n",
              "      <td>2183.0</td>\n",
              "    </tr>\n",
              "    <tr>\n",
              "      <th>1</th>\n",
              "      <td>90</td>\n",
              "      <td>42</td>\n",
              "      <td>43</td>\n",
              "      <td>20.879744</td>\n",
              "      <td>82.002744</td>\n",
              "      <td>6.502985</td>\n",
              "      <td>202.935536</td>\n",
              "      <td>rice</td>\n",
              "      <td>Paddy(Dhan)(Common)</td>\n",
              "      <td>Andhra Pradesh</td>\n",
              "      <td>Kurnool</td>\n",
              "      <td>Nandyal</td>\n",
              "      <td>Paddy(Dhan)(Common)</td>\n",
              "      <td>Sona Mahsuri</td>\n",
              "      <td>FAQ</td>\n",
              "      <td>19/09/2024</td>\n",
              "      <td>2290.0</td>\n",
              "      <td>2290.0</td>\n",
              "      <td>2290.0</td>\n",
              "    </tr>\n",
              "    <tr>\n",
              "      <th>2</th>\n",
              "      <td>90</td>\n",
              "      <td>42</td>\n",
              "      <td>43</td>\n",
              "      <td>20.879744</td>\n",
              "      <td>82.002744</td>\n",
              "      <td>6.502985</td>\n",
              "      <td>202.935536</td>\n",
              "      <td>rice</td>\n",
              "      <td>Paddy(Dhan)(Common)</td>\n",
              "      <td>Chattisgarh</td>\n",
              "      <td>Dhamtari</td>\n",
              "      <td>Belargaon</td>\n",
              "      <td>Paddy(Dhan)(Common)</td>\n",
              "      <td>I.R. 36</td>\n",
              "      <td>FAQ</td>\n",
              "      <td>19/09/2024</td>\n",
              "      <td>1900.0</td>\n",
              "      <td>1900.0</td>\n",
              "      <td>1900.0</td>\n",
              "    </tr>\n",
              "    <tr>\n",
              "      <th>3</th>\n",
              "      <td>90</td>\n",
              "      <td>42</td>\n",
              "      <td>43</td>\n",
              "      <td>20.879744</td>\n",
              "      <td>82.002744</td>\n",
              "      <td>6.502985</td>\n",
              "      <td>202.935536</td>\n",
              "      <td>rice</td>\n",
              "      <td>Paddy(Dhan)(Common)</td>\n",
              "      <td>Chattisgarh</td>\n",
              "      <td>Dhamtari</td>\n",
              "      <td>Boraee</td>\n",
              "      <td>Paddy(Dhan)(Common)</td>\n",
              "      <td>I.R. 36</td>\n",
              "      <td>FAQ</td>\n",
              "      <td>19/09/2024</td>\n",
              "      <td>1950.0</td>\n",
              "      <td>1950.0</td>\n",
              "      <td>1950.0</td>\n",
              "    </tr>\n",
              "    <tr>\n",
              "      <th>4</th>\n",
              "      <td>90</td>\n",
              "      <td>42</td>\n",
              "      <td>43</td>\n",
              "      <td>20.879744</td>\n",
              "      <td>82.002744</td>\n",
              "      <td>6.502985</td>\n",
              "      <td>202.935536</td>\n",
              "      <td>rice</td>\n",
              "      <td>Paddy(Dhan)(Common)</td>\n",
              "      <td>Chattisgarh</td>\n",
              "      <td>Dhamtari</td>\n",
              "      <td>Gattasilli</td>\n",
              "      <td>Paddy(Dhan)(Common)</td>\n",
              "      <td>I.R. 36</td>\n",
              "      <td>FAQ</td>\n",
              "      <td>19/09/2024</td>\n",
              "      <td>1900.0</td>\n",
              "      <td>1900.0</td>\n",
              "      <td>1900.0</td>\n",
              "    </tr>\n",
              "  </tbody>\n",
              "</table>\n",
              "</div>"
            ],
            "text/plain": [
              "    N   P   K  temperature   humidity        ph    rainfall label  \\\n",
              "0  90  42  43    20.879744  82.002744  6.502985  202.935536  rice   \n",
              "1  90  42  43    20.879744  82.002744  6.502985  202.935536  rice   \n",
              "2  90  42  43    20.879744  82.002744  6.502985  202.935536  rice   \n",
              "3  90  42  43    20.879744  82.002744  6.502985  202.935536  rice   \n",
              "4  90  42  43    20.879744  82.002744  6.502985  202.935536  rice   \n",
              "\n",
              "          label_mapped           State       District      Market  \\\n",
              "0  Paddy(Dhan)(Common)  Andhra Pradesh  East Godavari      Karapa   \n",
              "1  Paddy(Dhan)(Common)  Andhra Pradesh        Kurnool     Nandyal   \n",
              "2  Paddy(Dhan)(Common)     Chattisgarh       Dhamtari   Belargaon   \n",
              "3  Paddy(Dhan)(Common)     Chattisgarh       Dhamtari      Boraee   \n",
              "4  Paddy(Dhan)(Common)     Chattisgarh       Dhamtari  Gattasilli   \n",
              "\n",
              "             Commodity       Variety Grade Arrival_Date  Min_x0020_Price  \\\n",
              "0  Paddy(Dhan)(Common)          1001   FAQ   19/09/2024           2183.0   \n",
              "1  Paddy(Dhan)(Common)  Sona Mahsuri   FAQ   19/09/2024           2290.0   \n",
              "2  Paddy(Dhan)(Common)       I.R. 36   FAQ   19/09/2024           1900.0   \n",
              "3  Paddy(Dhan)(Common)       I.R. 36   FAQ   19/09/2024           1950.0   \n",
              "4  Paddy(Dhan)(Common)       I.R. 36   FAQ   19/09/2024           1900.0   \n",
              "\n",
              "   Max_x0020_Price  Modal_x0020_Price  \n",
              "0           2200.0             2183.0  \n",
              "1           2290.0             2290.0  \n",
              "2           1900.0             1900.0  \n",
              "3           1950.0             1950.0  \n",
              "4           1900.0             1900.0  "
            ]
          },
          "execution_count": 63,
          "metadata": {},
          "output_type": "execute_result"
        }
      ],
      "source": [
        "# Check the result of the merge\n",
        "print(f\"Merged Data Shape: {merged_data.shape}\")\n",
        "print(\"Merged Data Preview:\")\n",
        "merged_data.head()"
      ]
    },
    {
      "cell_type": "code",
      "execution_count": 64,
      "metadata": {},
      "outputs": [],
      "source": [
        "# Save the merged data to a new CSV file\n",
        "merged_data.to_csv('../datasets/data.csv', index=False)"
      ]
    },
    {
      "cell_type": "code",
      "execution_count": 65,
      "metadata": {
        "id": "SLJCnOVgwXSr"
      },
      "outputs": [],
      "source": [
        "# Feature selection for machine learning\n",
        "# X = merged_data[['N', 'P', 'K', 'temperature', 'humidity', 'ph', 'rainfall']]  # Features from crop data\n",
        "X = merged_data[['temperature', 'humidity', 'ph', 'rainfall','State','District','Market','Grade','Variety']]  # Features from crop data\n",
        "y = merged_data['Modal_x0020_Price']  # Target: Market price"
      ]
    },
    {
      "cell_type": "code",
      "execution_count": 66,
      "metadata": {
        "id": "5gWguqgYw2rh"
      },
      "outputs": [],
      "source": [
        "# Split data into training and testing sets\n",
        "X_train, X_test, y_train, y_test = train_test_split(X, y, test_size=0.3, random_state=42)"
      ]
    },
    {
      "cell_type": "markdown",
      "metadata": {},
      "source": [
        "# Model Training"
      ]
    },
    {
      "cell_type": "markdown",
      "metadata": {},
      "source": [
        "## Neural Network Model for Crop prediction"
      ]
    },
    {
      "cell_type": "code",
      "execution_count": 67,
      "metadata": {
        "id": "-6xHD2JVcBTm"
      },
      "outputs": [],
      "source": [
        "import tensorflow as tf\n",
        "import pandas as pd\n",
        "from sklearn.model_selection import train_test_split"
      ]
    },
    {
      "cell_type": "code",
      "execution_count": 68,
      "metadata": {},
      "outputs": [],
      "source": [
        "df = pd.read_csv(\"../datasets/data.csv\")"
      ]
    },
    {
      "cell_type": "code",
      "execution_count": 69,
      "metadata": {},
      "outputs": [
        {
          "data": {
            "text/plain": [
              "(130700, 19)"
            ]
          },
          "execution_count": 69,
          "metadata": {},
          "output_type": "execute_result"
        }
      ],
      "source": [
        "df.shape"
      ]
    },
    {
      "cell_type": "code",
      "execution_count": 70,
      "metadata": {},
      "outputs": [
        {
          "data": {
            "text/html": [
              "<div>\n",
              "<style scoped>\n",
              "    .dataframe tbody tr th:only-of-type {\n",
              "        vertical-align: middle;\n",
              "    }\n",
              "\n",
              "    .dataframe tbody tr th {\n",
              "        vertical-align: top;\n",
              "    }\n",
              "\n",
              "    .dataframe thead th {\n",
              "        text-align: right;\n",
              "    }\n",
              "</style>\n",
              "<table border=\"1\" class=\"dataframe\">\n",
              "  <thead>\n",
              "    <tr style=\"text-align: right;\">\n",
              "      <th></th>\n",
              "      <th>N</th>\n",
              "      <th>P</th>\n",
              "      <th>K</th>\n",
              "      <th>temperature</th>\n",
              "      <th>humidity</th>\n",
              "      <th>ph</th>\n",
              "      <th>rainfall</th>\n",
              "      <th>label</th>\n",
              "      <th>label_mapped</th>\n",
              "      <th>State</th>\n",
              "      <th>District</th>\n",
              "      <th>Market</th>\n",
              "      <th>Commodity</th>\n",
              "      <th>Variety</th>\n",
              "      <th>Grade</th>\n",
              "      <th>Arrival_Date</th>\n",
              "      <th>Min_x0020_Price</th>\n",
              "      <th>Max_x0020_Price</th>\n",
              "      <th>Modal_x0020_Price</th>\n",
              "    </tr>\n",
              "  </thead>\n",
              "  <tbody>\n",
              "    <tr>\n",
              "      <th>16798</th>\n",
              "      <td>60</td>\n",
              "      <td>54</td>\n",
              "      <td>19</td>\n",
              "      <td>18.748267</td>\n",
              "      <td>62.498785</td>\n",
              "      <td>6.417820</td>\n",
              "      <td>70.234016</td>\n",
              "      <td>maize</td>\n",
              "      <td>Maize</td>\n",
              "      <td>Tamil Nadu</td>\n",
              "      <td>Erode</td>\n",
              "      <td>Thalavadi(Uzhavar Sandhai )</td>\n",
              "      <td>Maize</td>\n",
              "      <td>Deshi Red</td>\n",
              "      <td>Local</td>\n",
              "      <td>19/09/2024</td>\n",
              "      <td>2000.0</td>\n",
              "      <td>2200.0</td>\n",
              "      <td>2200.0</td>\n",
              "    </tr>\n",
              "    <tr>\n",
              "      <th>34558</th>\n",
              "      <td>118</td>\n",
              "      <td>88</td>\n",
              "      <td>52</td>\n",
              "      <td>28.650039</td>\n",
              "      <td>82.687525</td>\n",
              "      <td>5.843163</td>\n",
              "      <td>98.750844</td>\n",
              "      <td>banana</td>\n",
              "      <td>Banana</td>\n",
              "      <td>Chattisgarh</td>\n",
              "      <td>Rajnandgaon</td>\n",
              "      <td>Rajnandgaon</td>\n",
              "      <td>Banana</td>\n",
              "      <td>Banana - Ripe</td>\n",
              "      <td>Medium</td>\n",
              "      <td>19/09/2024</td>\n",
              "      <td>4000.0</td>\n",
              "      <td>5000.0</td>\n",
              "      <td>4500.0</td>\n",
              "    </tr>\n",
              "  </tbody>\n",
              "</table>\n",
              "</div>"
            ],
            "text/plain": [
              "         N   P   K  temperature   humidity        ph   rainfall   label  \\\n",
              "16798   60  54  19    18.748267  62.498785  6.417820  70.234016   maize   \n",
              "34558  118  88  52    28.650039  82.687525  5.843163  98.750844  banana   \n",
              "\n",
              "      label_mapped        State     District                       Market  \\\n",
              "16798        Maize   Tamil Nadu        Erode  Thalavadi(Uzhavar Sandhai )   \n",
              "34558       Banana  Chattisgarh  Rajnandgaon                  Rajnandgaon   \n",
              "\n",
              "      Commodity        Variety   Grade Arrival_Date  Min_x0020_Price  \\\n",
              "16798     Maize      Deshi Red   Local   19/09/2024           2000.0   \n",
              "34558    Banana  Banana - Ripe  Medium   19/09/2024           4000.0   \n",
              "\n",
              "       Max_x0020_Price  Modal_x0020_Price  \n",
              "16798           2200.0             2200.0  \n",
              "34558           5000.0             4500.0  "
            ]
          },
          "execution_count": 70,
          "metadata": {},
          "output_type": "execute_result"
        }
      ],
      "source": [
        "df.sample(2)"
      ]
    },
    {
      "cell_type": "code",
      "execution_count": 71,
      "metadata": {},
      "outputs": [],
      "source": [
        "input_cols = ['temperature', 'humidity', 'ph', 'rainfall', 'State', 'District', 'Market', 'Grade', 'Variety','N','P','K']\n",
        "target_cols = ['label' , 'Modal_x0020_Price']"
      ]
    },
    {
      "cell_type": "code",
      "execution_count": 72,
      "metadata": {},
      "outputs": [],
      "source": [
        "class CropPricePredictor(tf.keras.Model):\n",
        "    def __init__(self, input_shape,output_shape):\n",
        "        super(CropPricePredictor, self).__init__()\n",
        "        \n",
        "        self.dense1 = tf.keras.layers.Dense(256,input_shape=input_shape, activation='leaky_relu')\n",
        "        self.dense2 = tf.keras.layers.Dense(256,activation=\"leaky_relu\")\n",
        "\n",
        "        self.dense3 = tf.keras.layers.Dense(512, activation='relu')\n",
        "        self.dense4 = tf.keras.layers.Dense(512, activation='relu')\n",
        "        \n",
        "        self.dense5 = tf.keras.layers.Dense(1024, activation='relu')\n",
        "        self.dense6 = tf.keras.layers.Dense(1024, activation='relu')\n",
        "        \n",
        "        # crop layers\n",
        "        self.output_crop_1 = tf.keras.layers.Dense(512,activation=\"relu\")\n",
        "        self.output_crop_2 = tf.keras.layers.Dense(256,activation=\"relu\")\n",
        "        self.output_crop_3 = tf.keras.layers.Dense(64,activation=\"relu\")\n",
        "\n",
        "        self.output_crop = tf.keras.layers.Dense(output_shape, activation='softmax', name='crop_output')\n",
        "        \n",
        "        # price layers\n",
        "        self.output_price_1 = tf.keras.layers.Dense(512, activation='relu')\n",
        "        self.output_price_2 = tf.keras.layers.Dense(512, activation='relu')\n",
        "        self.output_price_3 = tf.keras.layers.Dense(128, activation='relu')\n",
        "\n",
        "        self.output_price = tf.keras.layers.Dense(1, name='price_output',activation='linear')\n",
        "        \n",
        "        self.dropout = tf.keras.layers.Dropout(0.2)\n",
        "\n",
        "    def call(self, inputs):        \n",
        "        x = self.dense1(inputs)\n",
        "        x = self.dropout(self.dense2(x))\n",
        "\n",
        "        x = self.dropout(self.dense3(x))\n",
        "        x = self.dropout(self.dense4(x))\n",
        "\n",
        "        x = self.dropout(self.dense5(x))\n",
        "        x = self.dropout(self.dense6(x))\n",
        "\n",
        "        # Predict crop\n",
        "        crop = self.dropout(self.output_crop_1(x))\n",
        "        crop = self.dropout(self.output_crop_2(crop))\n",
        "        crop = self.dropout(self.output_crop_3(crop))\n",
        "\n",
        "        crop_output = self.output_crop(crop)\n",
        "\n",
        "        # Predict price\n",
        "        price = self.dropout(self.output_crop_1(x))\n",
        "        price = self.dropout(self.output_crop_2(price))\n",
        "        price = self.dropout(self.output_crop_3(price))\n",
        "\n",
        "        price_output = self.output_crop(price)\n",
        "\n",
        "        return {'price_output': price_output, 'crop_output': crop_output}"
      ]
    },
    {
      "cell_type": "code",
      "execution_count": 85,
      "metadata": {},
      "outputs": [],
      "source": [
        "model = CropPricePredictor(input_shape=(len(input_cols),),output_shape=df['label'].unique().shape[0])"
      ]
    },
    {
      "cell_type": "code",
      "execution_count": 86,
      "metadata": {},
      "outputs": [],
      "source": [
        "model.build(input_shape=(None, len(input_cols)))"
      ]
    },
    {
      "cell_type": "code",
      "execution_count": 87,
      "metadata": {},
      "outputs": [
        {
          "name": "stdout",
          "output_type": "stream",
          "text": [
            "Model: \"crop_price_predictor_1\"\n",
            "_________________________________________________________________\n",
            " Layer (type)                Output Shape              Param #   \n",
            "=================================================================\n",
            " dense_28 (Dense)            multiple                  3328      \n",
            "                                                                 \n",
            " dense_29 (Dense)            multiple                  65792     \n",
            "                                                                 \n",
            " dense_30 (Dense)            multiple                  131584    \n",
            "                                                                 \n",
            " dense_31 (Dense)            multiple                  262656    \n",
            "                                                                 \n",
            " dense_32 (Dense)            multiple                  525312    \n",
            "                                                                 \n",
            " dense_33 (Dense)            multiple                  1049600   \n",
            "                                                                 \n",
            " dense_34 (Dense)            multiple                  524800    \n",
            "                                                                 \n",
            " dense_35 (Dense)            multiple                  131328    \n",
            "                                                                 \n",
            " dense_36 (Dense)            multiple                  16448     \n",
            "                                                                 \n",
            " crop_output (Dense)         multiple                  1235      \n",
            "                                                                 \n",
            " dense_37 (Dense)            multiple                  0 (unused)\n",
            "                                                                 \n",
            " dense_38 (Dense)            multiple                  0 (unused)\n",
            "                                                                 \n",
            " dense_39 (Dense)            multiple                  0 (unused)\n",
            "                                                                 \n",
            " price_output (Dense)        multiple                  0 (unused)\n",
            "                                                                 \n",
            " dropout_3 (Dropout)         multiple                  0         \n",
            "                                                                 \n",
            "=================================================================\n",
            "Total params: 2,712,083\n",
            "Trainable params: 2,712,083\n",
            "Non-trainable params: 0\n",
            "_________________________________________________________________\n"
          ]
        }
      ],
      "source": [
        "model.summary()"
      ]
    },
    {
      "cell_type": "code",
      "execution_count": 88,
      "metadata": {},
      "outputs": [],
      "source": [
        "df = df[target_cols + input_cols]"
      ]
    },
    {
      "cell_type": "code",
      "execution_count": 89,
      "metadata": {},
      "outputs": [
        {
          "data": {
            "text/html": [
              "<div>\n",
              "<style scoped>\n",
              "    .dataframe tbody tr th:only-of-type {\n",
              "        vertical-align: middle;\n",
              "    }\n",
              "\n",
              "    .dataframe tbody tr th {\n",
              "        vertical-align: top;\n",
              "    }\n",
              "\n",
              "    .dataframe thead th {\n",
              "        text-align: right;\n",
              "    }\n",
              "</style>\n",
              "<table border=\"1\" class=\"dataframe\">\n",
              "  <thead>\n",
              "    <tr style=\"text-align: right;\">\n",
              "      <th></th>\n",
              "      <th>label</th>\n",
              "      <th>Modal_x0020_Price</th>\n",
              "      <th>temperature</th>\n",
              "      <th>humidity</th>\n",
              "      <th>ph</th>\n",
              "      <th>rainfall</th>\n",
              "      <th>State</th>\n",
              "      <th>District</th>\n",
              "      <th>Market</th>\n",
              "      <th>Grade</th>\n",
              "      <th>Variety</th>\n",
              "      <th>N</th>\n",
              "      <th>P</th>\n",
              "      <th>K</th>\n",
              "    </tr>\n",
              "  </thead>\n",
              "  <tbody>\n",
              "    <tr>\n",
              "      <th>23752</th>\n",
              "      <td>16</td>\n",
              "      <td>7100.0</td>\n",
              "      <td>23.128082</td>\n",
              "      <td>92.683284</td>\n",
              "      <td>6.630646</td>\n",
              "      <td>109.393016</td>\n",
              "      <td>20</td>\n",
              "      <td>12</td>\n",
              "      <td>35</td>\n",
              "      <td>3</td>\n",
              "      <td>63</td>\n",
              "      <td>15</td>\n",
              "      <td>11</td>\n",
              "      <td>38</td>\n",
              "    </tr>\n",
              "    <tr>\n",
              "      <th>51719</th>\n",
              "      <td>1</td>\n",
              "      <td>3200.0</td>\n",
              "      <td>28.311933</td>\n",
              "      <td>75.773638</td>\n",
              "      <td>6.165001</td>\n",
              "      <td>119.695765</td>\n",
              "      <td>20</td>\n",
              "      <td>59</td>\n",
              "      <td>112</td>\n",
              "      <td>3</td>\n",
              "      <td>11</td>\n",
              "      <td>111</td>\n",
              "      <td>79</td>\n",
              "      <td>53</td>\n",
              "    </tr>\n",
              "    <tr>\n",
              "      <th>8822</th>\n",
              "      <td>17</td>\n",
              "      <td>2203.0</td>\n",
              "      <td>23.359054</td>\n",
              "      <td>83.595123</td>\n",
              "      <td>5.333323</td>\n",
              "      <td>188.413665</td>\n",
              "      <td>19</td>\n",
              "      <td>89</td>\n",
              "      <td>148</td>\n",
              "      <td>0</td>\n",
              "      <td>47</td>\n",
              "      <td>65</td>\n",
              "      <td>37</td>\n",
              "      <td>40</td>\n",
              "    </tr>\n",
              "  </tbody>\n",
              "</table>\n",
              "</div>"
            ],
            "text/plain": [
              "       label  Modal_x0020_Price  temperature   humidity        ph    rainfall  \\\n",
              "23752     16             7100.0    23.128082  92.683284  6.630646  109.393016   \n",
              "51719      1             3200.0    28.311933  75.773638  6.165001  119.695765   \n",
              "8822      17             2203.0    23.359054  83.595123  5.333323  188.413665   \n",
              "\n",
              "       State  District  Market  Grade  Variety    N   P   K  \n",
              "23752     20        12      35      3       63   15  11  38  \n",
              "51719     20        59     112      3       11  111  79  53  \n",
              "8822      19        89     148      0       47   65  37  40  "
            ]
          },
          "execution_count": 89,
          "metadata": {},
          "output_type": "execute_result"
        }
      ],
      "source": [
        "df.sample(3)"
      ]
    },
    {
      "cell_type": "code",
      "execution_count": 90,
      "metadata": {},
      "outputs": [],
      "source": [
        "from sklearn.preprocessing import LabelEncoder\n",
        "\n",
        "label_encoders = {}\n",
        "\n",
        "for col in ['State', 'District', 'Market', 'Grade', 'Variety','label']:\n",
        "    label_encoders[col] = LabelEncoder()\n",
        "    df[col] = label_encoders[col].fit_transform(df[col].astype(str))\n",
        "    "
      ]
    },
    {
      "cell_type": "code",
      "execution_count": 91,
      "metadata": {},
      "outputs": [
        {
          "data": {
            "text/html": [
              "<div>\n",
              "<style scoped>\n",
              "    .dataframe tbody tr th:only-of-type {\n",
              "        vertical-align: middle;\n",
              "    }\n",
              "\n",
              "    .dataframe tbody tr th {\n",
              "        vertical-align: top;\n",
              "    }\n",
              "\n",
              "    .dataframe thead th {\n",
              "        text-align: right;\n",
              "    }\n",
              "</style>\n",
              "<table border=\"1\" class=\"dataframe\">\n",
              "  <thead>\n",
              "    <tr style=\"text-align: right;\">\n",
              "      <th></th>\n",
              "      <th>label</th>\n",
              "      <th>Modal_x0020_Price</th>\n",
              "      <th>temperature</th>\n",
              "      <th>humidity</th>\n",
              "      <th>ph</th>\n",
              "      <th>rainfall</th>\n",
              "      <th>State</th>\n",
              "      <th>District</th>\n",
              "      <th>Market</th>\n",
              "      <th>Grade</th>\n",
              "      <th>Variety</th>\n",
              "      <th>N</th>\n",
              "      <th>P</th>\n",
              "      <th>K</th>\n",
              "    </tr>\n",
              "  </thead>\n",
              "  <tbody>\n",
              "    <tr>\n",
              "      <th>13883</th>\n",
              "      <td>18</td>\n",
              "      <td>3000.0</td>\n",
              "      <td>18.525108</td>\n",
              "      <td>69.027623</td>\n",
              "      <td>5.773455</td>\n",
              "      <td>88.102344</td>\n",
              "      <td>10</td>\n",
              "      <td>180</td>\n",
              "      <td>86</td>\n",
              "      <td>2</td>\n",
              "      <td>17</td>\n",
              "      <td>72</td>\n",
              "      <td>60</td>\n",
              "      <td>25</td>\n",
              "    </tr>\n",
              "    <tr>\n",
              "      <th>16603</th>\n",
              "      <td>18</td>\n",
              "      <td>3000.0</td>\n",
              "      <td>18.928519</td>\n",
              "      <td>72.800861</td>\n",
              "      <td>6.158860</td>\n",
              "      <td>82.341629</td>\n",
              "      <td>10</td>\n",
              "      <td>132</td>\n",
              "      <td>185</td>\n",
              "      <td>2</td>\n",
              "      <td>17</td>\n",
              "      <td>90</td>\n",
              "      <td>57</td>\n",
              "      <td>24</td>\n",
              "    </tr>\n",
              "    <tr>\n",
              "      <th>79646</th>\n",
              "      <td>0</td>\n",
              "      <td>8625.0</td>\n",
              "      <td>22.490951</td>\n",
              "      <td>91.702927</td>\n",
              "      <td>5.795986</td>\n",
              "      <td>124.391510</td>\n",
              "      <td>13</td>\n",
              "      <td>75</td>\n",
              "      <td>402</td>\n",
              "      <td>3</td>\n",
              "      <td>38</td>\n",
              "      <td>23</td>\n",
              "      <td>138</td>\n",
              "      <td>195</td>\n",
              "    </tr>\n",
              "  </tbody>\n",
              "</table>\n",
              "</div>"
            ],
            "text/plain": [
              "       label  Modal_x0020_Price  temperature   humidity        ph    rainfall  \\\n",
              "13883     18             3000.0    18.525108  69.027623  5.773455   88.102344   \n",
              "16603     18             3000.0    18.928519  72.800861  6.158860   82.341629   \n",
              "79646      0             8625.0    22.490951  91.702927  5.795986  124.391510   \n",
              "\n",
              "       State  District  Market  Grade  Variety   N    P    K  \n",
              "13883     10       180      86      2       17  72   60   25  \n",
              "16603     10       132     185      2       17  90   57   24  \n",
              "79646     13        75     402      3       38  23  138  195  "
            ]
          },
          "execution_count": 91,
          "metadata": {},
          "output_type": "execute_result"
        }
      ],
      "source": [
        "df.sample(3)"
      ]
    },
    {
      "cell_type": "code",
      "execution_count": 92,
      "metadata": {},
      "outputs": [],
      "source": [
        "x = df[input_cols]\n",
        "y_crop = tf.keras.utils.to_categorical(df['label'])\n",
        "y_price = df['Modal_x0020_Price']"
      ]
    },
    {
      "cell_type": "code",
      "execution_count": 93,
      "metadata": {},
      "outputs": [],
      "source": [
        "X_train, X_test, y_crop_train, y_crop_test, y_price_train, y_price_test = train_test_split(x, y_crop, y_price, test_size=0.3, random_state=42)"
      ]
    },
    {
      "cell_type": "code",
      "execution_count": 94,
      "metadata": {},
      "outputs": [],
      "source": [
        "early_stopping = tf.keras.callbacks.EarlyStopping(monitor='val_loss', patience=5, restore_best_weights=True)"
      ]
    },
    {
      "cell_type": "code",
      "execution_count": 95,
      "metadata": {},
      "outputs": [],
      "source": [
        "model.compile(optimizer='adam', \n",
        "              loss={'price_output': 'mse', 'crop_output': 'categorical_crossentropy'}, \n",
        "              metrics={'price_output': 'mse', 'crop_output': 'accuracy'})"
      ]
    },
    {
      "cell_type": "code",
      "execution_count": 96,
      "metadata": {},
      "outputs": [
        {
          "name": "stdout",
          "output_type": "stream",
          "text": [
            "Epoch 1/10\n",
            "1144/1144 [==============================] - 13s 10ms/step - loss: 48822592.0000 - crop_output_loss: 0.4554 - price_output_loss: 48822592.0000 - crop_output_accuracy: 0.8656 - price_output_mse: 48822592.0000 - val_loss: 49146264.0000 - val_crop_output_loss: 0.0535 - val_price_output_loss: 49146264.0000 - val_crop_output_accuracy: 0.9821 - val_price_output_mse: 49146264.0000\n",
            "Epoch 2/10\n",
            "1144/1144 [==============================] - 11s 10ms/step - loss: 48822488.0000 - crop_output_loss: 0.1262 - price_output_loss: 48822488.0000 - crop_output_accuracy: 0.9664 - price_output_mse: 48822488.0000 - val_loss: 49146264.0000 - val_crop_output_loss: 0.0518 - val_price_output_loss: 49146264.0000 - val_crop_output_accuracy: 0.9843 - val_price_output_mse: 49146264.0000\n",
            "Epoch 3/10\n",
            "1144/1144 [==============================] - 15s 13ms/step - loss: 48822500.0000 - crop_output_loss: 0.1041 - price_output_loss: 48822500.0000 - crop_output_accuracy: 0.9746 - price_output_mse: 48822500.0000 - val_loss: 49146264.0000 - val_crop_output_loss: 0.0223 - val_price_output_loss: 49146264.0000 - val_crop_output_accuracy: 0.9932 - val_price_output_mse: 49146264.0000\n",
            "Epoch 4/10\n",
            "1144/1144 [==============================] - 14s 13ms/step - loss: 48822508.0000 - crop_output_loss: 0.1055 - price_output_loss: 48822508.0000 - crop_output_accuracy: 0.9778 - price_output_mse: 48822508.0000 - val_loss: 49146264.0000 - val_crop_output_loss: 0.1170 - val_price_output_loss: 49146264.0000 - val_crop_output_accuracy: 0.9799 - val_price_output_mse: 49146264.0000\n",
            "Epoch 5/10\n",
            "1144/1144 [==============================] - 12s 10ms/step - loss: 48822532.0000 - crop_output_loss: 0.1074 - price_output_loss: 48822532.0000 - crop_output_accuracy: 0.9734 - price_output_mse: 48822532.0000 - val_loss: 49146264.0000 - val_crop_output_loss: 0.0733 - val_price_output_loss: 49146264.0000 - val_crop_output_accuracy: 0.9742 - val_price_output_mse: 49146264.0000\n",
            "Epoch 6/10\n",
            "1144/1144 [==============================] - 11s 10ms/step - loss: 48822536.0000 - crop_output_loss: 0.1365 - price_output_loss: 48822536.0000 - crop_output_accuracy: 0.9600 - price_output_mse: 48822536.0000 - val_loss: 49146264.0000 - val_crop_output_loss: 0.0233 - val_price_output_loss: 49146264.0000 - val_crop_output_accuracy: 0.9933 - val_price_output_mse: 49146264.0000\n",
            "Epoch 7/10\n",
            "1144/1144 [==============================] - 12s 10ms/step - loss: 48822508.0000 - crop_output_loss: 0.0836 - price_output_loss: 48822508.0000 - crop_output_accuracy: 0.9786 - price_output_mse: 48822508.0000 - val_loss: 49146264.0000 - val_crop_output_loss: 0.0209 - val_price_output_loss: 49146264.0000 - val_crop_output_accuracy: 0.9938 - val_price_output_mse: 49146264.0000\n",
            "Epoch 8/10\n",
            "1144/1144 [==============================] - 13s 11ms/step - loss: 48822512.0000 - crop_output_loss: 0.1415 - price_output_loss: 48822512.0000 - crop_output_accuracy: 0.9632 - price_output_mse: 48822512.0000 - val_loss: 49146264.0000 - val_crop_output_loss: 0.0678 - val_price_output_loss: 49146264.0000 - val_crop_output_accuracy: 0.9673 - val_price_output_mse: 49146264.0000\n",
            "Epoch 9/10\n",
            "1144/1144 [==============================] - 13s 11ms/step - loss: 48822492.0000 - crop_output_loss: 0.1297 - price_output_loss: 48822492.0000 - crop_output_accuracy: 0.9654 - price_output_mse: 48822492.0000 - val_loss: 49146264.0000 - val_crop_output_loss: 0.1039 - val_price_output_loss: 49146264.0000 - val_crop_output_accuracy: 0.9654 - val_price_output_mse: 49146264.0000\n",
            "Epoch 10/10\n",
            "1144/1144 [==============================] - 13s 12ms/step - loss: 48822520.0000 - crop_output_loss: 0.1189 - price_output_loss: 48822520.0000 - crop_output_accuracy: 0.9650 - price_output_mse: 48822520.0000 - val_loss: 49146264.0000 - val_crop_output_loss: 0.0107 - val_price_output_loss: 49146264.0000 - val_crop_output_accuracy: 0.9964 - val_price_output_mse: 49146264.0000\n"
          ]
        },
        {
          "data": {
            "text/plain": [
              "<keras.callbacks.History at 0x2c7607d6880>"
            ]
          },
          "execution_count": 96,
          "metadata": {},
          "output_type": "execute_result"
        }
      ],
      "source": [
        "model.fit(X_train, {'price_output': y_price_train, 'crop_output': y_crop_train},\n",
        "                    epochs=10, batch_size=64, validation_split=0.2)"
      ]
    },
    {
      "cell_type": "code",
      "execution_count": 97,
      "metadata": {},
      "outputs": [
        {
          "name": "stdout",
          "output_type": "stream",
          "text": [
            "1226/1226 [==============================] - 6s 5ms/step - loss: 47467840.0000 - crop_output_loss: 0.0083 - price_output_loss: 47467840.0000 - crop_output_accuracy: 0.9968 - price_output_mse: 47467840.0000\n"
          ]
        },
        {
          "data": {
            "text/plain": [
              "[47467840.0, 0.008270742371678352, 47467840.0, 0.9967610239982605, 47467840.0]"
            ]
          },
          "execution_count": 97,
          "metadata": {},
          "output_type": "execute_result"
        }
      ],
      "source": [
        "model.evaluate(X_test, {'price_output': y_price_test, 'crop_output': y_crop_test})"
      ]
    },
    {
      "cell_type": "code",
      "execution_count": null,
      "metadata": {},
      "outputs": [],
      "source": [
        "model.save('../models/crop_price_predictor-100', save_format='tf')"
      ]
    },
    {
      "cell_type": "code",
      "execution_count": null,
      "metadata": {},
      "outputs": [],
      "source": [
        "# label\tModal_x0020_Price\ttemperature\t    humidity\tph\t        rainfall\tState\tDistrict\tMarket\tGrade\tVariety\t    N\t    P\t    K\n",
        "# 0\t    7560.0\t            21.377847\t    92.720437\t5.573241\t106.141702\t20\t    12\t        35\t    3\t    23\t        30\t    122\t    197\n",
        "\n",
        "input_values = [21.377847,92.720437,5.573241,106.141702,20,12,35,3,23,30,122,197]\n",
        "input_tensor = tf.constant([input_values], dtype=tf.float32)\n",
        "\n",
        "model(input_tensor)"
      ]
    },
    {
      "cell_type": "markdown",
      "metadata": {},
      "source": [
        "## Using separate models to predict"
      ]
    },
    {
      "cell_type": "code",
      "execution_count": 98,
      "metadata": {},
      "outputs": [],
      "source": [
        "\n",
        "import tensorflow as tf\n",
        "import pandas as pd\n",
        "from sklearn.model_selection import train_test_split\n",
        "from sklearn.preprocessing import LabelEncoder, StandardScaler"
      ]
    },
    {
      "cell_type": "code",
      "execution_count": 100,
      "metadata": {},
      "outputs": [],
      "source": [
        "class CropPredictor(tf.keras.Model):\n",
        "    def __init__(self, input_shape, output_shape):\n",
        "        super(CropPredictor, self).__init__()\n",
        "        \n",
        "        self.dense1 = tf.keras.layers.Dense(256,input_shape=input_shape, activation='leaky_relu')\n",
        "        self.dense2 = tf.keras.layers.Dense(256,activation=\"leaky_relu\")\n",
        "\n",
        "        self.dense3 = tf.keras.layers.Dense(512, activation='relu')\n",
        "        self.dense4 = tf.keras.layers.Dense(512, activation='relu')\n",
        "        \n",
        "        self.dense5 = tf.keras.layers.Dense(1024, activation='relu')\n",
        "        self.dense6 = tf.keras.layers.Dense(1024, activation='relu')\n",
        "\n",
        "        self.output_1 = tf.keras.layers.Dense(128,activation=\"relu\")\n",
        "        self.output_2 = tf.keras.layers.Dense(64,activation=\"relu\")\n",
        "        self.output_layer = tf.keras.layers.Dense(output_shape, activation='softmax')\n",
        "\n",
        "        self.dropout = tf.keras.layers.Dropout(0.2)\n",
        "\n",
        "    def call(self, x):\n",
        "        x = self.dense1(x)\n",
        "        x = self.dropout(self.dense2(x))\n",
        "\n",
        "        x = self.dropout(self.dense3(x))\n",
        "        x = self.dropout(self.dense4(x))\n",
        "\n",
        "        x = self.dropout(self.dense5(x))\n",
        "        x = self.dropout(self.dense6(x))\n",
        "\n",
        "        x = self.dropout(self.output_1(x))\n",
        "        x = self.dropout(self.output_2(x))\n",
        "\n",
        "        return self.output_layer(x)"
      ]
    },
    {
      "cell_type": "code",
      "execution_count": 101,
      "metadata": {},
      "outputs": [],
      "source": [
        "class PricePredictor(tf.keras.Model):\n",
        "    def __init__(self, input_shape):\n",
        "        super(PricePredictor, self).__init__()\n",
        "        self.dense1 = tf.keras.layers.Dense(128,input_shape=input_shape, activation='leaky_relu')\n",
        "        self.dense2 = tf.keras.layers.Dense(256,activation=\"relu\")\n",
        "\n",
        "        self.dense3 = tf.keras.layers.Dense(512, activation='relu')\n",
        "        self.dense4 = tf.keras.layers.Dense(512, activation='relu')\n",
        "\n",
        "        self.output_1 = tf.keras.layers.Dense(128,activation=\"relu\")\n",
        "        self.output_2 = tf.keras.layers.Dense(32,activation=\"relu\")\n",
        "        self.output_layer = tf.keras.layers.Dense(1, activation='linear')\n",
        "\n",
        "        self.dropout = tf.keras.layers.Dropout(0.2)\n",
        "\n",
        "    def call(self, x):\n",
        "        x = self.dense1(x)\n",
        "        x = self.dropout(self.dense2(x))\n",
        "\n",
        "        x = self.dropout(self.dense3(x))\n",
        "        x = self.dropout(self.dense4(x))\n",
        "\n",
        "        x = self.dropout(self.output_1(x))\n",
        "        x = self.dropout(self.output_2(x))\n",
        "\n",
        "        return self.output_layer(x)"
      ]
    },
    {
      "cell_type": "code",
      "execution_count": 102,
      "metadata": {},
      "outputs": [],
      "source": [
        "input_cols = ['temperature', 'humidity', 'ph', 'rainfall', 'State', 'District', 'Market', 'Grade', 'Variety','N','P','K']\n",
        "target_cols = ['label' , 'Modal_x0020_Price']"
      ]
    },
    {
      "cell_type": "code",
      "execution_count": 103,
      "metadata": {},
      "outputs": [
        {
          "data": {
            "text/html": [
              "<div>\n",
              "<style scoped>\n",
              "    .dataframe tbody tr th:only-of-type {\n",
              "        vertical-align: middle;\n",
              "    }\n",
              "\n",
              "    .dataframe tbody tr th {\n",
              "        vertical-align: top;\n",
              "    }\n",
              "\n",
              "    .dataframe thead th {\n",
              "        text-align: right;\n",
              "    }\n",
              "</style>\n",
              "<table border=\"1\" class=\"dataframe\">\n",
              "  <thead>\n",
              "    <tr style=\"text-align: right;\">\n",
              "      <th></th>\n",
              "      <th>label</th>\n",
              "      <th>Modal_x0020_Price</th>\n",
              "      <th>temperature</th>\n",
              "      <th>humidity</th>\n",
              "      <th>ph</th>\n",
              "      <th>rainfall</th>\n",
              "      <th>State</th>\n",
              "      <th>District</th>\n",
              "      <th>Market</th>\n",
              "      <th>Grade</th>\n",
              "      <th>Variety</th>\n",
              "      <th>N</th>\n",
              "      <th>P</th>\n",
              "      <th>K</th>\n",
              "    </tr>\n",
              "  </thead>\n",
              "  <tbody>\n",
              "    <tr>\n",
              "      <th>99406</th>\n",
              "      <td>papaya</td>\n",
              "      <td>3000.0</td>\n",
              "      <td>34.280461</td>\n",
              "      <td>90.555616</td>\n",
              "      <td>6.825371</td>\n",
              "      <td>98.540477</td>\n",
              "      <td>Tamil Nadu</td>\n",
              "      <td>Thiruvannamalai</td>\n",
              "      <td>Chengam(Uzhavar Sandhai )</td>\n",
              "      <td>Local</td>\n",
              "      <td>Papaya</td>\n",
              "      <td>44</td>\n",
              "      <td>60</td>\n",
              "      <td>55</td>\n",
              "    </tr>\n",
              "    <tr>\n",
              "      <th>32842</th>\n",
              "      <td>banana</td>\n",
              "      <td>2100.0</td>\n",
              "      <td>25.866324</td>\n",
              "      <td>84.423793</td>\n",
              "      <td>6.079179</td>\n",
              "      <td>114.535750</td>\n",
              "      <td>Uttar Pradesh</td>\n",
              "      <td>Rampur</td>\n",
              "      <td>Vilaspur</td>\n",
              "      <td>Medium</td>\n",
              "      <td>Banana - Ripe</td>\n",
              "      <td>93</td>\n",
              "      <td>94</td>\n",
              "      <td>53</td>\n",
              "    </tr>\n",
              "  </tbody>\n",
              "</table>\n",
              "</div>"
            ],
            "text/plain": [
              "        label  Modal_x0020_Price  temperature   humidity        ph  \\\n",
              "99406  papaya             3000.0    34.280461  90.555616  6.825371   \n",
              "32842  banana             2100.0    25.866324  84.423793  6.079179   \n",
              "\n",
              "         rainfall          State         District                     Market  \\\n",
              "99406   98.540477     Tamil Nadu  Thiruvannamalai  Chengam(Uzhavar Sandhai )   \n",
              "32842  114.535750  Uttar Pradesh           Rampur                   Vilaspur   \n",
              "\n",
              "        Grade        Variety   N   P   K  \n",
              "99406   Local         Papaya  44  60  55  \n",
              "32842  Medium  Banana - Ripe  93  94  53  "
            ]
          },
          "execution_count": 103,
          "metadata": {},
          "output_type": "execute_result"
        }
      ],
      "source": [
        "df = pd.read_csv(\"../datasets/data.csv\")\n",
        "\n",
        "df = df[target_cols + input_cols]\n",
        "df.sample(2)"
      ]
    },
    {
      "cell_type": "code",
      "execution_count": 104,
      "metadata": {},
      "outputs": [
        {
          "data": {
            "text/html": [
              "<div>\n",
              "<style scoped>\n",
              "    .dataframe tbody tr th:only-of-type {\n",
              "        vertical-align: middle;\n",
              "    }\n",
              "\n",
              "    .dataframe tbody tr th {\n",
              "        vertical-align: top;\n",
              "    }\n",
              "\n",
              "    .dataframe thead th {\n",
              "        text-align: right;\n",
              "    }\n",
              "</style>\n",
              "<table border=\"1\" class=\"dataframe\">\n",
              "  <thead>\n",
              "    <tr style=\"text-align: right;\">\n",
              "      <th></th>\n",
              "      <th>label</th>\n",
              "      <th>Modal_x0020_Price</th>\n",
              "      <th>temperature</th>\n",
              "      <th>humidity</th>\n",
              "      <th>ph</th>\n",
              "      <th>rainfall</th>\n",
              "      <th>State</th>\n",
              "      <th>District</th>\n",
              "      <th>Market</th>\n",
              "      <th>Grade</th>\n",
              "      <th>Variety</th>\n",
              "      <th>N</th>\n",
              "      <th>P</th>\n",
              "      <th>K</th>\n",
              "    </tr>\n",
              "  </thead>\n",
              "  <tbody>\n",
              "    <tr>\n",
              "      <th>0</th>\n",
              "      <td>rice</td>\n",
              "      <td>2183.0</td>\n",
              "      <td>20.879744</td>\n",
              "      <td>82.002744</td>\n",
              "      <td>6.502985</td>\n",
              "      <td>202.935536</td>\n",
              "      <td>Andhra Pradesh</td>\n",
              "      <td>East Godavari</td>\n",
              "      <td>Karapa</td>\n",
              "      <td>FAQ</td>\n",
              "      <td>1001</td>\n",
              "      <td>90</td>\n",
              "      <td>42</td>\n",
              "      <td>43</td>\n",
              "    </tr>\n",
              "    <tr>\n",
              "      <th>1</th>\n",
              "      <td>rice</td>\n",
              "      <td>2290.0</td>\n",
              "      <td>20.879744</td>\n",
              "      <td>82.002744</td>\n",
              "      <td>6.502985</td>\n",
              "      <td>202.935536</td>\n",
              "      <td>Andhra Pradesh</td>\n",
              "      <td>Kurnool</td>\n",
              "      <td>Nandyal</td>\n",
              "      <td>FAQ</td>\n",
              "      <td>Sona Mahsuri</td>\n",
              "      <td>90</td>\n",
              "      <td>42</td>\n",
              "      <td>43</td>\n",
              "    </tr>\n",
              "    <tr>\n",
              "      <th>2</th>\n",
              "      <td>rice</td>\n",
              "      <td>1900.0</td>\n",
              "      <td>20.879744</td>\n",
              "      <td>82.002744</td>\n",
              "      <td>6.502985</td>\n",
              "      <td>202.935536</td>\n",
              "      <td>Chattisgarh</td>\n",
              "      <td>Dhamtari</td>\n",
              "      <td>Belargaon</td>\n",
              "      <td>FAQ</td>\n",
              "      <td>I.R. 36</td>\n",
              "      <td>90</td>\n",
              "      <td>42</td>\n",
              "      <td>43</td>\n",
              "    </tr>\n",
              "    <tr>\n",
              "      <th>3</th>\n",
              "      <td>rice</td>\n",
              "      <td>1950.0</td>\n",
              "      <td>20.879744</td>\n",
              "      <td>82.002744</td>\n",
              "      <td>6.502985</td>\n",
              "      <td>202.935536</td>\n",
              "      <td>Chattisgarh</td>\n",
              "      <td>Dhamtari</td>\n",
              "      <td>Boraee</td>\n",
              "      <td>FAQ</td>\n",
              "      <td>I.R. 36</td>\n",
              "      <td>90</td>\n",
              "      <td>42</td>\n",
              "      <td>43</td>\n",
              "    </tr>\n",
              "    <tr>\n",
              "      <th>4</th>\n",
              "      <td>rice</td>\n",
              "      <td>1900.0</td>\n",
              "      <td>20.879744</td>\n",
              "      <td>82.002744</td>\n",
              "      <td>6.502985</td>\n",
              "      <td>202.935536</td>\n",
              "      <td>Chattisgarh</td>\n",
              "      <td>Dhamtari</td>\n",
              "      <td>Gattasilli</td>\n",
              "      <td>FAQ</td>\n",
              "      <td>I.R. 36</td>\n",
              "      <td>90</td>\n",
              "      <td>42</td>\n",
              "      <td>43</td>\n",
              "    </tr>\n",
              "  </tbody>\n",
              "</table>\n",
              "</div>"
            ],
            "text/plain": [
              "  label  Modal_x0020_Price  temperature   humidity        ph    rainfall  \\\n",
              "0  rice             2183.0    20.879744  82.002744  6.502985  202.935536   \n",
              "1  rice             2290.0    20.879744  82.002744  6.502985  202.935536   \n",
              "2  rice             1900.0    20.879744  82.002744  6.502985  202.935536   \n",
              "3  rice             1950.0    20.879744  82.002744  6.502985  202.935536   \n",
              "4  rice             1900.0    20.879744  82.002744  6.502985  202.935536   \n",
              "\n",
              "            State       District      Market Grade       Variety   N   P   K  \n",
              "0  Andhra Pradesh  East Godavari      Karapa   FAQ          1001  90  42  43  \n",
              "1  Andhra Pradesh        Kurnool     Nandyal   FAQ  Sona Mahsuri  90  42  43  \n",
              "2     Chattisgarh       Dhamtari   Belargaon   FAQ       I.R. 36  90  42  43  \n",
              "3     Chattisgarh       Dhamtari      Boraee   FAQ       I.R. 36  90  42  43  \n",
              "4     Chattisgarh       Dhamtari  Gattasilli   FAQ       I.R. 36  90  42  43  "
            ]
          },
          "execution_count": 104,
          "metadata": {},
          "output_type": "execute_result"
        }
      ],
      "source": [
        "df.head()"
      ]
    },
    {
      "cell_type": "code",
      "execution_count": 105,
      "metadata": {},
      "outputs": [],
      "source": [
        "from sklearn.preprocessing import LabelEncoder\n",
        "\n",
        "label_encoders = {}\n",
        "\n",
        "for col in ['State', 'District', 'Market', 'Grade', 'Variety','label']:\n",
        "    label_encoders[col] = LabelEncoder()\n",
        "    df[col] = label_encoders[col].fit_transform(df[col].astype(str))"
      ]
    },
    {
      "cell_type": "code",
      "execution_count": 106,
      "metadata": {},
      "outputs": [],
      "source": [
        "import pickle\n",
        "\n",
        "with open('../models/label_encoders.pkl', 'wb') as f:\n",
        "    pickle.dump(label_encoders, f)"
      ]
    },
    {
      "cell_type": "code",
      "execution_count": 107,
      "metadata": {},
      "outputs": [],
      "source": [
        "x = df[input_cols]\n",
        "y_crop = tf.keras.utils.to_categorical(df['label'])\n",
        "y_price = df['Modal_x0020_Price']"
      ]
    },
    {
      "cell_type": "code",
      "execution_count": 116,
      "metadata": {},
      "outputs": [],
      "source": [
        "crop_model = CropPredictor(input_shape=(len(input_cols),), output_shape=df['label'].unique().shape[0])\n",
        "price_model = PricePredictor(input_shape=(len(input_cols)+1,))"
      ]
    },
    {
      "cell_type": "code",
      "execution_count": 117,
      "metadata": {},
      "outputs": [],
      "source": [
        "crop_model.build(input_shape=(None, len(input_cols)))\n",
        "price_model.build(input_shape=(None, len(input_cols)+1))"
      ]
    },
    {
      "cell_type": "code",
      "execution_count": 118,
      "metadata": {},
      "outputs": [
        {
          "name": "stdout",
          "output_type": "stream",
          "text": [
            "Model: \"crop_predictor_2\"\n",
            "_________________________________________________________________\n",
            " Layer (type)                Output Shape              Param #   \n",
            "=================================================================\n",
            " dense_56 (Dense)            multiple                  3328      \n",
            "                                                                 \n",
            " dense_57 (Dense)            multiple                  65792     \n",
            "                                                                 \n",
            " dense_58 (Dense)            multiple                  131584    \n",
            "                                                                 \n",
            " dense_59 (Dense)            multiple                  262656    \n",
            "                                                                 \n",
            " dense_60 (Dense)            multiple                  525312    \n",
            "                                                                 \n",
            " dense_61 (Dense)            multiple                  1049600   \n",
            "                                                                 \n",
            " dense_62 (Dense)            multiple                  131200    \n",
            "                                                                 \n",
            " dense_63 (Dense)            multiple                  8256      \n",
            "                                                                 \n",
            " dense_64 (Dense)            multiple                  1235      \n",
            "                                                                 \n",
            " dropout_6 (Dropout)         multiple                  0         \n",
            "                                                                 \n",
            "=================================================================\n",
            "Total params: 2,178,963\n",
            "Trainable params: 2,178,963\n",
            "Non-trainable params: 0\n",
            "_________________________________________________________________\n"
          ]
        }
      ],
      "source": [
        "crop_model.summary()"
      ]
    },
    {
      "cell_type": "code",
      "execution_count": 119,
      "metadata": {},
      "outputs": [
        {
          "name": "stdout",
          "output_type": "stream",
          "text": [
            "Model: \"price_predictor_2\"\n",
            "_________________________________________________________________\n",
            " Layer (type)                Output Shape              Param #   \n",
            "=================================================================\n",
            " dense_65 (Dense)            multiple                  1792      \n",
            "                                                                 \n",
            " dense_66 (Dense)            multiple                  33024     \n",
            "                                                                 \n",
            " dense_67 (Dense)            multiple                  131584    \n",
            "                                                                 \n",
            " dense_68 (Dense)            multiple                  262656    \n",
            "                                                                 \n",
            " dense_69 (Dense)            multiple                  65664     \n",
            "                                                                 \n",
            " dense_70 (Dense)            multiple                  4128      \n",
            "                                                                 \n",
            " dense_71 (Dense)            multiple                  33        \n",
            "                                                                 \n",
            " dropout_7 (Dropout)         multiple                  0         \n",
            "                                                                 \n",
            "=================================================================\n",
            "Total params: 498,881\n",
            "Trainable params: 498,881\n",
            "Non-trainable params: 0\n",
            "_________________________________________________________________\n"
          ]
        }
      ],
      "source": [
        "price_model.summary()"
      ]
    },
    {
      "cell_type": "code",
      "execution_count": 120,
      "metadata": {},
      "outputs": [],
      "source": [
        "x_crop_train, x_crop_test, y_crop_train, y_crop_test = train_test_split(x, y_crop, test_size=0.3, random_state=42)\n",
        "x_price_train, x_price_test, y_price_train, y_price_test = train_test_split(df[input_cols + [\"label\"]], y_price, test_size=0.3, random_state=42)"
      ]
    },
    {
      "cell_type": "code",
      "execution_count": 121,
      "metadata": {},
      "outputs": [],
      "source": [
        "crop_model.compile(optimizer='adam', loss='categorical_crossentropy', metrics=['accuracy'])\n",
        "price_model.compile(optimizer='adam', loss='mse', metrics=['mse'])"
      ]
    },
    {
      "cell_type": "code",
      "execution_count": 122,
      "metadata": {},
      "outputs": [],
      "source": [
        "early_stopping_crop = tf.keras.callbacks.EarlyStopping(monitor='val_loss', patience=5, restore_best_weights=True)\n",
        "early_stopping_price = tf.keras.callbacks.EarlyStopping(monitor='mse', patience=5, restore_best_weights=True)"
      ]
    },
    {
      "cell_type": "code",
      "execution_count": 123,
      "metadata": {},
      "outputs": [
        {
          "name": "stdout",
          "output_type": "stream",
          "text": [
            "Epoch 1/100\n",
            "1144/1144 [==============================] - 9s 7ms/step - loss: 0.4558 - accuracy: 0.8672 - val_loss: 0.0389 - val_accuracy: 0.9878\n",
            "Epoch 2/100\n",
            "1144/1144 [==============================] - 8s 7ms/step - loss: 0.1175 - accuracy: 0.9695 - val_loss: 0.0311 - val_accuracy: 0.9895\n",
            "Epoch 3/100\n",
            "1144/1144 [==============================] - 7s 7ms/step - loss: 0.0830 - accuracy: 0.9796 - val_loss: 0.0316 - val_accuracy: 0.9883\n",
            "Epoch 4/100\n",
            "1144/1144 [==============================] - 8s 7ms/step - loss: 0.0915 - accuracy: 0.9789 - val_loss: 0.0892 - val_accuracy: 0.9914\n",
            "Epoch 5/100\n",
            "1144/1144 [==============================] - 8s 7ms/step - loss: 0.0821 - accuracy: 0.9816 - val_loss: 0.0207 - val_accuracy: 0.9931\n",
            "Epoch 6/100\n",
            "1144/1144 [==============================] - 8s 7ms/step - loss: 0.0720 - accuracy: 0.9837 - val_loss: 0.0182 - val_accuracy: 0.9934\n",
            "Epoch 7/100\n",
            "1144/1144 [==============================] - 8s 7ms/step - loss: 0.0931 - accuracy: 0.9818 - val_loss: 0.0573 - val_accuracy: 0.9710\n",
            "Epoch 8/100\n",
            "1144/1144 [==============================] - 8s 7ms/step - loss: 0.0623 - accuracy: 0.9856 - val_loss: 0.0137 - val_accuracy: 0.9966\n",
            "Epoch 9/100\n",
            "1144/1144 [==============================] - 8s 7ms/step - loss: 0.1197 - accuracy: 0.9707 - val_loss: 0.0093 - val_accuracy: 0.9969\n",
            "Epoch 10/100\n",
            "1144/1144 [==============================] - 8s 7ms/step - loss: 0.0536 - accuracy: 0.9880 - val_loss: 0.0455 - val_accuracy: 0.9845\n",
            "Epoch 11/100\n",
            "1144/1144 [==============================] - 9s 7ms/step - loss: 0.0926 - accuracy: 0.9808 - val_loss: 0.0159 - val_accuracy: 0.9956\n",
            "Epoch 12/100\n",
            "1144/1144 [==============================] - 8s 7ms/step - loss: 0.0630 - accuracy: 0.9872 - val_loss: 0.0110 - val_accuracy: 0.9961\n",
            "Epoch 13/100\n",
            "1144/1144 [==============================] - 9s 8ms/step - loss: 0.0910 - accuracy: 0.9814 - val_loss: 0.0288 - val_accuracy: 0.9915\n",
            "Epoch 14/100\n",
            "1144/1144 [==============================] - 8s 7ms/step - loss: 0.1197 - accuracy: 0.9764 - val_loss: 0.0102 - val_accuracy: 0.9970\n"
          ]
        },
        {
          "data": {
            "text/plain": [
              "<keras.callbacks.History at 0x2c757121370>"
            ]
          },
          "execution_count": 123,
          "metadata": {},
          "output_type": "execute_result"
        }
      ],
      "source": [
        "crop_model.fit(x_crop_train, y_crop_train, epochs=100, batch_size=64, validation_split=0.2, callbacks=[early_stopping_crop])"
      ]
    },
    {
      "cell_type": "code",
      "execution_count": null,
      "metadata": {},
      "outputs": [],
      "source": [
        "price_model.fit(x_price_train, y_price_train, epochs=100, batch_size=64, validation_split=0.2, callbacks=[early_stopping_price])"
      ]
    },
    {
      "cell_type": "code",
      "execution_count": 124,
      "metadata": {},
      "outputs": [
        {
          "name": "stdout",
          "output_type": "stream",
          "text": [
            "1226/1226 [==============================] - 4s 4ms/step - loss: 0.0102 - accuracy: 0.9965\n",
            "1226/1226 [==============================] - 4s 3ms/step - loss: 47409232.0000 - mse: 47409232.0000\n"
          ]
        },
        {
          "data": {
            "text/plain": [
              "[47409232.0, 47409232.0]"
            ]
          },
          "execution_count": 124,
          "metadata": {},
          "output_type": "execute_result"
        }
      ],
      "source": [
        "crop_model.evaluate(x_crop_test, y_crop_test)\n",
        "price_model.evaluate(x_price_test, y_price_test)"
      ]
    },
    {
      "cell_type": "code",
      "execution_count": 125,
      "metadata": {},
      "outputs": [
        {
          "name": "stdout",
          "output_type": "stream",
          "text": [
            "INFO:tensorflow:Assets written to: ../models/crop_predictor-100\\assets\n",
            "INFO:tensorflow:Assets written to: ../models/price_predictor-100\\assets\n"
          ]
        }
      ],
      "source": [
        "crop_model.save('../models/crop_predictor-100', save_format='tf')\n",
        "price_model.save('../models/price_predictor-100', save_format='tf')"
      ]
    },
    {
      "cell_type": "code",
      "execution_count": 126,
      "metadata": {},
      "outputs": [
        {
          "name": "stdout",
          "output_type": "stream",
          "text": [
            "1/1 [==============================] - 0s 172ms/step\n",
            "17\n",
            "[[0.0000000e+00 0.0000000e+00 0.0000000e+00 0.0000000e+00 0.0000000e+00\n",
            "  0.0000000e+00 0.0000000e+00 3.0651446e-14 0.0000000e+00 0.0000000e+00\n",
            "  0.0000000e+00 0.0000000e+00 0.0000000e+00 0.0000000e+00 7.6634859e-18\n",
            "  7.2306229e-37 0.0000000e+00 1.0000000e+00 0.0000000e+00]]\n"
          ]
        }
      ],
      "source": [
        "input_arr = [20.879744, 82.002744, 6.502985, 202.935536, 0, 55, 193, 0, 0, 90, 42, 43]\n",
        "output_val = crop_model.predict(tf.constant([input_arr], dtype=tf.float32))\n",
        "\n",
        "import numpy as np\n",
        "\n",
        "print(np.argmax(output_val))\n",
        "print(output_val)"
      ]
    },
    {
      "cell_type": "code",
      "execution_count": 127,
      "metadata": {},
      "outputs": [
        {
          "name": "stdout",
          "output_type": "stream",
          "text": [
            "MSE: 1296.7259949530685\n"
          ]
        }
      ],
      "source": [
        "from sklearn.ensemble import RandomForestRegressor\n",
        "from sklearn.metrics import mean_squared_error\n",
        "\n",
        "x_train, x_test, y_train, y_test = train_test_split(df[input_cols], df['Modal_x0020_Price'], test_size=0.3, random_state=42)\n",
        "\n",
        "booster = RandomForestRegressor(n_estimators=100, random_state=42)\n",
        "booster.fit(x_price_train, y_price_train)\n",
        "\n",
        "y_pred = booster.predict(x_price_test)\n",
        "mse = mean_squared_error(y_price_test, y_pred)\n",
        "print(f\"MSE: {mse}\")"
      ]
    },
    {
      "cell_type": "code",
      "execution_count": 128,
      "metadata": {},
      "outputs": [],
      "source": [
        "import pickle\n",
        "\n",
        "with open('../models/price_predictor.pkl', 'wb') as f:\n",
        "    pickle.dump(booster, f)"
      ]
    }
  ],
  "metadata": {
    "colab": {
      "include_colab_link": true,
      "provenance": []
    },
    "kernelspec": {
      "display_name": "tensor",
      "language": "python",
      "name": "python3"
    },
    "language_info": {
      "codemirror_mode": {
        "name": "ipython",
        "version": 3
      },
      "file_extension": ".py",
      "mimetype": "text/x-python",
      "name": "python",
      "nbconvert_exporter": "python",
      "pygments_lexer": "ipython3",
      "version": "3.9.19"
    }
  },
  "nbformat": 4,
  "nbformat_minor": 0
}
